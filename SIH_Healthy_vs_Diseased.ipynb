{
 "cells": [
  {
   "cell_type": "code",
   "execution_count": 9,
   "metadata": {
    "colab": {
     "base_uri": "https://localhost:8080/"
    },
    "id": "TpuDPkj1vaIf",
    "outputId": "1086eb0f-9dba-46ce-aed7-d7419f479279"
   },
   "outputs": [
    {
     "name": "stdout",
     "output_type": "stream",
     "text": [
      "(640, 224, 224, 3)\n",
      "(640,)\n",
      "(160, 224, 224, 3)\n",
      "(160,)\n",
      "Epoch 1/50\n",
      "20/20 [==============================] - 83s 4s/step - loss: 0.8125 - accuracy: 0.5797\n",
      "Epoch 2/50\n",
      "20/20 [==============================] - 80s 4s/step - loss: 0.4627 - accuracy: 0.7922\n",
      "Epoch 3/50\n",
      "20/20 [==============================] - 78s 4s/step - loss: 0.3035 - accuracy: 0.8781\n",
      "Epoch 4/50\n",
      "20/20 [==============================] - 79s 4s/step - loss: 0.3096 - accuracy: 0.8938\n",
      "Epoch 5/50\n",
      "20/20 [==============================] - 81s 4s/step - loss: 0.2355 - accuracy: 0.9250\n",
      "Epoch 6/50\n",
      "20/20 [==============================] - 76s 4s/step - loss: 0.1908 - accuracy: 0.9281\n",
      "Epoch 7/50\n",
      "20/20 [==============================] - 75s 4s/step - loss: 0.1297 - accuracy: 0.9453\n",
      "Epoch 8/50\n",
      "20/20 [==============================] - 77s 4s/step - loss: 0.1816 - accuracy: 0.9391\n",
      "Epoch 9/50\n",
      "20/20 [==============================] - 75s 4s/step - loss: 0.1647 - accuracy: 0.9469\n",
      "Epoch 10/50\n",
      "20/20 [==============================] - 76s 4s/step - loss: 0.1840 - accuracy: 0.9203\n",
      "Epoch 11/50\n",
      "20/20 [==============================] - 73s 4s/step - loss: 0.1166 - accuracy: 0.9563\n",
      "Epoch 12/50\n",
      "20/20 [==============================] - 79s 4s/step - loss: 0.1005 - accuracy: 0.9594\n",
      "Epoch 13/50\n",
      "20/20 [==============================] - 76s 4s/step - loss: 0.1333 - accuracy: 0.9484\n",
      "Epoch 14/50\n",
      "20/20 [==============================] - 75s 4s/step - loss: 0.1301 - accuracy: 0.9594\n",
      "Epoch 15/50\n",
      "20/20 [==============================] - 80s 4s/step - loss: 0.0730 - accuracy: 0.9734\n",
      "Epoch 16/50\n",
      "20/20 [==============================] - 81s 4s/step - loss: 0.0626 - accuracy: 0.9750\n",
      "Epoch 17/50\n",
      "20/20 [==============================] - 74s 4s/step - loss: 0.0403 - accuracy: 0.9844\n",
      "Epoch 18/50\n",
      "20/20 [==============================] - 77s 4s/step - loss: 0.0376 - accuracy: 0.9828\n",
      "Epoch 19/50\n",
      "20/20 [==============================] - 74s 4s/step - loss: 0.0531 - accuracy: 0.9750\n",
      "Epoch 20/50\n",
      "20/20 [==============================] - 71s 4s/step - loss: 0.0289 - accuracy: 0.9922\n",
      "Epoch 21/50\n",
      "20/20 [==============================] - 75s 4s/step - loss: 0.0786 - accuracy: 0.9688\n",
      "Epoch 22/50\n",
      "20/20 [==============================] - 75s 4s/step - loss: 0.0285 - accuracy: 0.9906\n",
      "Epoch 23/50\n",
      "20/20 [==============================] - 75s 4s/step - loss: 0.0150 - accuracy: 0.9984\n",
      "Epoch 24/50\n",
      "20/20 [==============================] - 76s 4s/step - loss: 0.0091 - accuracy: 0.9984\n",
      "Epoch 25/50\n",
      "20/20 [==============================] - 80s 4s/step - loss: 0.0249 - accuracy: 0.9891\n",
      "Epoch 26/50\n",
      "20/20 [==============================] - 76s 4s/step - loss: 0.0272 - accuracy: 0.9937\n",
      "Epoch 27/50\n",
      "20/20 [==============================] - 75s 4s/step - loss: 0.0077 - accuracy: 1.0000\n",
      "Epoch 28/50\n",
      "20/20 [==============================] - 78s 4s/step - loss: 0.0059 - accuracy: 0.9984\n",
      "Epoch 29/50\n",
      "20/20 [==============================] - 73s 4s/step - loss: 0.0076 - accuracy: 0.9969\n",
      "Epoch 30/50\n",
      "20/20 [==============================] - 76s 4s/step - loss: 0.0080 - accuracy: 0.9969\n",
      "Epoch 31/50\n",
      "20/20 [==============================] - 74s 4s/step - loss: 0.0129 - accuracy: 0.9953\n",
      "Epoch 32/50\n",
      "20/20 [==============================] - 80s 4s/step - loss: 0.0211 - accuracy: 0.9906\n",
      "Epoch 33/50\n",
      "20/20 [==============================] - 77s 4s/step - loss: 0.0178 - accuracy: 0.9922\n",
      "Epoch 34/50\n",
      "20/20 [==============================] - 75s 4s/step - loss: 0.0381 - accuracy: 0.9875\n",
      "Epoch 35/50\n",
      "20/20 [==============================] - 78s 4s/step - loss: 0.2032 - accuracy: 0.9375\n",
      "Epoch 36/50\n",
      "20/20 [==============================] - 74s 4s/step - loss: 0.3795 - accuracy: 0.8188\n",
      "Epoch 37/50\n",
      "20/20 [==============================] - 75s 4s/step - loss: 0.1146 - accuracy: 0.9578\n",
      "Epoch 38/50\n",
      "20/20 [==============================] - 79s 4s/step - loss: 0.1868 - accuracy: 0.9344\n",
      "Epoch 39/50\n",
      "20/20 [==============================] - 73s 4s/step - loss: 0.1176 - accuracy: 0.9578\n",
      "Epoch 40/50\n",
      "20/20 [==============================] - 78s 4s/step - loss: 0.0770 - accuracy: 0.9734\n",
      "Epoch 41/50\n",
      "20/20 [==============================] - 74s 4s/step - loss: 0.0424 - accuracy: 0.9875\n",
      "Epoch 42/50\n",
      "20/20 [==============================] - 77s 4s/step - loss: 0.1027 - accuracy: 0.9688\n",
      "Epoch 43/50\n",
      "20/20 [==============================] - 76s 4s/step - loss: 0.0801 - accuracy: 0.9703\n",
      "Epoch 44/50\n",
      "20/20 [==============================] - 74s 4s/step - loss: 0.0223 - accuracy: 0.9953\n",
      "Epoch 45/50\n",
      "20/20 [==============================] - 80s 4s/step - loss: 0.0159 - accuracy: 0.9969\n",
      "Epoch 46/50\n",
      "20/20 [==============================] - 77s 4s/step - loss: 0.0040 - accuracy: 1.0000\n",
      "Epoch 47/50\n",
      "20/20 [==============================] - 74s 4s/step - loss: 0.0026 - accuracy: 1.0000\n",
      "Epoch 48/50\n",
      "20/20 [==============================] - 85s 4s/step - loss: 0.0018 - accuracy: 1.0000\n",
      "Epoch 49/50\n",
      "20/20 [==============================] - 75s 4s/step - loss: 9.7608e-04 - accuracy: 1.0000\n",
      "Epoch 50/50\n",
      "20/20 [==============================] - 75s 4s/step - loss: 7.9327e-04 - accuracy: 1.0000\n"
     ]
    },
    {
     "data": {
      "text/plain": [
       "<keras.src.callbacks.History at 0x7c2821ebf2e0>"
      ]
     },
     "execution_count": 9,
     "metadata": {},
     "output_type": "execute_result"
    }
   ],
   "source": [
    "import tensorflow as tf\n",
    "from tensorflow.keras.models import Sequential\n",
    "from tensorflow.keras.layers import Conv2D, MaxPooling2D, Flatten, Dense\n",
    "from tensorflow.keras.preprocessing.image import ImageDataGenerator\n",
    "import os\n",
    "import numpy as np\n",
    "from sklearn.model_selection import train_test_split\n",
    "import matplotlib.pyplot as plt\n",
    "from PIL import Image\n",
    "\n",
    "data_dir = '/content/drive/MyDrive/SIH'  \n",
    "\n",
    "image_paths = []\n",
    "labels = []\n",
    "\n",
    "for folder_name in os.listdir(data_dir):\n",
    "    folder_path = os.path.join(data_dir, folder_name)\n",
    "    if os.path.isdir(folder_path):\n",
    "        label = 0 if folder_name == 'healthy' else 1\n",
    "        for filename in os.listdir(folder_path):\n",
    "            image_path = os.path.join(folder_path, filename)\n",
    "            image_paths.append(image_path)\n",
    "            labels.append(label)\n",
    "\n",
    "combined = list(zip(image_paths, labels))\n",
    "np.random.shuffle(combined)\n",
    "image_paths, labels = zip(*combined)\n",
    "\n",
    "train_paths, test_paths, train_labels, test_labels = train_test_split(\n",
    "    image_paths, labels, test_size=0.2, random_state=42\n",
    ")\n",
    "def load_and_preprocess_images(image_paths, labels, target_size=(224, 224)):\n",
    "    images = []\n",
    "    for image_path in image_paths:\n",
    "        img = Image.open(image_path)\n",
    "        img = img.resize(target_size)  \n",
    "        img_array = np.array(img)/255.0\n",
    "        images.append(img_array)\n",
    "\n",
    "    images = np.array(images)\n",
    "    labels = np.array(labels)\n",
    "    return images, labels\n",
    "\n",
    "X_train, y_train = load_and_preprocess_images(train_paths, train_labels)\n",
    "X_test, y_test = load_and_preprocess_images(test_paths, test_labels)\n",
    "print(X_train.shape)\n",
    "print(y_train.shape)\n",
    "print(X_test.shape)\n",
    "print(y_test.shape)\n",
    "\n",
    "model = Sequential()\n",
    "model.add(Conv2D(32, (3, 3), activation='relu', input_shape=(224, 224, 3))) \n",
    "model.add(MaxPooling2D((2, 2)))\n",
    "model.add(Conv2D(64, (3, 3), activation='relu'))\n",
    "model.add(MaxPooling2D((2, 2)))\n",
    "model.add(Conv2D(128, (3, 3), activation='relu'))\n",
    "model.add(MaxPooling2D((2, 2)))\n",
    "model.add(Flatten())\n",
    "model.add(Dense(128, activation='relu'))\n",
    "model.add(Dense(1, activation='sigmoid'))\n",
    "\n",
    "model.compile(optimizer='adam', loss='binary_crossentropy', metrics=['accuracy'])\n",
    "model.fit(X_train, y_train, epochs=50, batch_size=32)"
   ]
  },
  {
   "cell_type": "code",
   "execution_count": 10,
   "metadata": {
    "id": "AttEPnyx8P9_"
   },
   "outputs": [],
   "source": [
    "model.save_weights('/content/drive/MyDrive/SIH/weights.h5')"
   ]
  },
  {
   "cell_type": "code",
   "execution_count": 12,
   "metadata": {
    "colab": {
     "base_uri": "https://localhost:8080/",
     "height": 445
    },
    "id": "bvoN-2UcQEQL",
    "outputId": "374574b0-fd7c-4b80-a180-b11022f4d793"
   },
   "outputs": [
    {
     "name": "stdout",
     "output_type": "stream",
     "text": [
      "5/5 [==============================] - 11s 2s/step\n",
      "Accuracy: 91.25%\n"
     ]
    },
    {
     "data": {
      "image/png": "[encoded data removed]",
      "text/plain": [
       "<Figure size 600x400 with 1 Axes>"
      ]
     },
     "metadata": {},
     "output_type": "display_data"
    }
   ],
   "source": [
    "from sklearn.metrics import accuracy_score, confusion_matrix\n",
    "import seaborn as sns\n",
    "import matplotlib.pyplot as plt\n",
    "from PIL import Image\n",
    "\n",
    "y_pred_probs = model.predict(X_test)\n",
    "y_pred = (y_pred_probs > 0.5).astype(\"int32\") \n",
    "\n",
    "accuracy = accuracy_score(y_test, y_pred)\n",
    "print(f'Accuracy: {accuracy * 100:.2f}%')\n",
    "\n",
    "conf_matrix = confusion_matrix(y_test, y_pred)\n",
    "\n",
    "plt.figure(figsize=(6, 4))\n",
    "sns.heatmap(conf_matrix, annot=True, fmt='d', cmap='Blues', cbar=False,\n",
    "            xticklabels=['Healthy', 'Diseased'], yticklabels=['Healthy', 'Diseased'])\n",
    "plt.title('Confusion Matrix')\n",
    "plt.xlabel('Predicted Label')\n",
    "plt.ylabel('True Label')\n",
    "plt.show()"
   ]
  }
 ],
 "metadata": {
  "colab": {
   "provenance": []
  },
  "kernelspec": {
   "display_name": "Python 3 (ipykernel)",
   "language": "python",
   "name": "python3"
  },
  "language_info": {
   "codemirror_mode": {
    "name": "ipython",
    "version": 3
   },
   "file_extension": ".py",
   "mimetype": "text/x-python",
   "name": "python",
   "nbconvert_exporter": "python",
   "pygments_lexer": "ipython3",
   "version": "3.12.4"
  }
 },
 "nbformat": 4,
 "nbformat_minor": 4
}
